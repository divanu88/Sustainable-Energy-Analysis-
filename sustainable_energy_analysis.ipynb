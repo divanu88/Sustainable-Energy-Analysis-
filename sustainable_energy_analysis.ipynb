{
 "cells": [
  {
   "cell_type": "markdown",
   "id": "b1b29551",
   "metadata": {},
   "source": [
    "# Global Sustainable Energy Trends Analysis\n",
    "\n",
    "**Author:** Divya Srinivasa  \n",
    "\n",
    "**Tools:** Python (pandas, matplotlib, seaborn), SQLite (SQLAlchemy), Tableau  \n",
    "\n",
    "**Data:** `sustainable energy data.xlsx` (uploaded) — country-year sustainable energy indicators (2000–2024)\n",
    "\n",
    "---\n",
    "\n",
    "This notebook prepares the dataset, builds a SQLite database, runs SQL queries for analysis, creates Python visualizations, and exports clean CSVs for Tableau."
   ]
  },
  {
   "cell_type": "markdown",
   "id": "a6b00e0a",
   "metadata": {},
   "source": [
    "## 1. Install & Import Libraries\n",
    "Run these cells in Colab or a Jupyter environment. If using Colab, enable the notebook to access the uploaded file in `/mnt/data`."
   ]
  },
  {
   "cell_type": "code",
   "execution_count": null,
   "id": "76447888",
   "metadata": {},
   "outputs": [],
   "source": [
    "import pandas as pd\n",
    "import numpy as np\n",
    "import matplotlib.pyplot as plt\n",
    "import seaborn as sns\n",
    "import sqlite3\n",
    "from sqlalchemy import create_engine\n",
    "import os\n",
    "\n",
    "sns.set(style='whitegrid')\n",
    "print('Libraries imported. Files in /mnt/data:')\n",
    "print(os.listdir('/mnt/data'))"
   ]
  },
  {
   "cell_type": "markdown",
   "id": "760dfe06",
   "metadata": {},
   "source": [
    "## 2. Load the Excel file and inspect"
   ]
  },
  {
   "cell_type": "code",
   "execution_count": null,
   "id": "f5a52135",
   "metadata": {},
   "outputs": [],
   "source": [
    "file_path = '/mnt/data/sustainable energy data.xlsx'\n",
    "\n",
    "# Read Excel\n",
    "try:\n",
    "    df = pd.read_excel(file_path)\n",
    "    print('Shape:', df.shape)\n",
    "    display(df.head())\n",
    "    display(pd.Series(df.columns))\n",
    "except Exception as e:\n",
    "    print('Error reading file:', e)"
   ]
  },
  {
   "cell_type": "markdown",
   "id": "1319e499",
   "metadata": {},
   "source": [
    "## 3. Clean & Preprocess\n",
    "- Standardize column names\n",
    "- Convert Year to int\n",
    "- Handle missing values where appropriate\n",
    "- Create derived columns (example: net production if available)\n"
   ]
  },
  {
   "cell_type": "code",
   "execution_count": null,
   "id": "d8e6833c",
   "metadata": {},
   "outputs": [],
   "source": [
    "df.columns = df.columns.str.strip().str.replace('[^0-9a-zA-Z_ ]', '', regex=True).str.replace('\\n',' ').str.replace('  ',' ').str.strip().str.lower().str.replace(' ', '_')\n",
    "print('Cleaned columns:')\n",
    "print(df.columns.tolist())\n",
    "\n",
    "# Convert year to int if possible\n",
    "try:\n",
    "    df['year'] = df['year'].astype(int)\n",
    "except Exception as e:\n",
    "    print('Could not convert year to int:', e)\n",
    "\n",
    "# Coerce numeric columns heuristically\n",
    "numeric_cols = [c for c in df.columns if any(k in c for k in ['electricity','production','consumption','co2','gdp','per_capita','intensity','capacity','emissions','density','population'])]\n",
    "for c in numeric_cols:\n",
    "    df[c] = pd.to_numeric(df[c], errors='coerce')\n",
    "\n",
    "# Summary of missing values\n",
    "missing = df.isnull().mean().sort_values(ascending=False)\n",
    "display(missing.head(15))\n",
    "\n",
    "# Example derived column\n",
    "if 'production' in df.columns and 'consumption' in df.columns:\n",
    "    df['net_production'] = df['production'] - df['consumption']\n",
    "else:\n",
    "    df['net_production'] = np.nan\n",
    "\n",
    "print('Data types:')\n",
    "display(df.dtypes.head(20))\n",
    "\n",
    "# Save a cleaned CSV for quick reuse\n",
    "clean_csv = '/mnt/data/cleaned_sustainable_energy.csv'\n",
    "df.to_csv(clean_csv, index=False)\n",
    "print('Cleaned CSV saved to', clean_csv)"
   ]
  },
  {
   "cell_type": "markdown",
   "id": "8020a414",
   "metadata": {},
   "source": [
    "## 4. Create SQLite database and load cleaned data"
   ]
  },
  {
   "cell_type": "code",
   "execution_count": null,
   "id": "2e1725a5",
   "metadata": {},
   "outputs": [],
   "source": [
    "db_path = '/mnt/data/sustainable_energy.db'\n",
    "engine = create_engine(f'sqlite:///{db_path}')\n",
    "df.to_sql('energy_data', engine, if_exists='replace', index=False)\n",
    "print('Database created at', db_path)\n",
    "with engine.connect() as conn:\n",
    "    result = conn.execute('SELECT COUNT(*) FROM energy_data').fetchall()\n",
    "    print('Total rows in energy_data table:', result[0][0])"
   ]
  },
  {
   "cell_type": "markdown",
   "id": "10ea2359",
   "metadata": {},
   "source": [
    "## 5. Example SQL Queries and Analysis"
   ]
  },
  {
   "cell_type": "code",
   "execution_count": null,
   "id": "36abfe74",
   "metadata": {},
   "outputs": [],
   "source": [
    "# Top 10 countries by average renewable energy share (safe pandas approach)\n",
    "if 'renewable_energy_share_in_the_total_final_energy_consumption_' in df.columns:\n",
    "    tmp = df[['entity','year','renewable_energy_share_in_the_total_final_energy_consumption_']].copy()\n",
    "    tmp['renewable_share'] = pd.to_numeric(tmp['renewable_energy_share_in_the_total_final_energy_consumption_'], errors='coerce')\n",
    "    top10 = tmp.groupby('entity')['renewable_share'].mean().sort_values(ascending=False).head(10).reset_index().rename(columns={'renewable_share':'avg_share'})\n",
    "    display(top10)\n",
    "else:\n",
    "    print('Column renewable_energy_share_in_the_total_final_energy_consumption_ not found. Available columns:')\n",
    "    print(df.columns.tolist())"
   ]
  },
  {
   "cell_type": "code",
   "execution_count": null,
   "id": "ed0b342b",
   "metadata": {},
   "outputs": [],
   "source": [
    "# Yearly averages for CO2 emissions and renewable share\n",
    "cols = []\n",
    "if 'value_co2_emissions_kt_by_country' in df.columns:\n",
    "    cols.append('value_co2_emissions_kt_by_country')\n",
    "if 'renewable_energy_share_in_the_total_final_energy_consumption_' in df.columns:\n",
    "    cols.append('renewable_energy_share_in_the_total_final_energy_consumption_')\n",
    "\n",
    "if cols:\n",
    "    tmp = df[['year'] + cols].copy()\n",
    "    for c in cols:\n",
    "        tmp[c] = pd.to_numeric(tmp[c], errors='coerce')\n",
    "    yearly = tmp.groupby('year')[cols].mean().reset_index()\n",
    "    display(yearly.head())\n",
    "    plt.figure(figsize=(10,5))\n",
    "    if 'renewable_energy_share_in_the_total_final_energy_consumption_' in yearly.columns:\n",
    "        plt.plot(yearly['year'], yearly['renewable_energy_share_in_the_total_final_energy_consumption_'], marker='o', label='Avg Renewable Share (%)')\n",
    "    if 'value_co2_emissions_kt_by_country' in yearly.columns:\n",
    "        plt.plot(yearly['year'], yearly['value_co2_emissions_kt_by_country'], marker='s', label='Avg CO2 Emissions (kt)')\n",
    "    plt.xlabel('Year')\n",
    "    plt.legend()\n",
    "    plt.title('Yearly Avg: Renewable Share vs CO2 Emissions')\n",
    "    plt.show()\n",
    "else:\n",
    "    print('Required columns for trend not found.')"
   ]
  },
  {
   "cell_type": "markdown",
   "id": "0a8091bf",
   "metadata": {},
   "source": [
    "### Electricity access growth: Top countries"
   ]
  },
  {
   "cell_type": "code",
   "execution_count": null,
   "id": "18de99aa",
   "metadata": {},
   "outputs": [],
   "source": [
    "if 'access_to_electricity__of_population_' in df.columns:\n",
    "    tmp = df[['entity','year','access_to_electricity__of_population_']].copy()\n",
    "    tmp['access_to_elec'] = pd.to_numeric(tmp['access_to_electricity__of_population_'], errors='coerce')\n",
    "    growth = tmp.groupby('entity').agg(min_year=('year','min'), max_year=('year','max'), min_val=('access_to_elec','min'), max_val=('access_to_elec','max')).reset_index()\n",
    "    growth['growth_pct'] = growth['max_val'] - growth['min_val']\n",
    "    top_growth = growth.sort_values('growth_pct', ascending=False).head(10)\n",
    "    display(top_growth[['entity','min_year','max_year','min_val','max_val','growth_pct']])\n",
    "else:\n",
    "    print('access_to_electricity__of_population_ column not found.')"
   ]
  },
  {
   "cell_type": "markdown",
   "id": "111cf115",
   "metadata": {},
   "source": [
    "## 6. Python Visualizations\n",
    "- Line charts, scatter plots, and maps can be created. Below: scatter of GDP per capita vs renewable share."
   ]
  },
  {
   "cell_type": "code",
   "execution_count": null,
   "id": "6e1f6c26",
   "metadata": {},
   "outputs": [],
   "source": [
    "if 'gdp_per_capita' in df.columns and 'renewable_energy_share_in_the_total_final_energy_consumption_' in df.columns:\n",
    "    plot_df = df[['entity','year','gdp_per_capita','renewable_energy_share_in_the_total_final_energy_consumption_']].copy()\n",
    "    plot_df['renewable_share'] = pd.to_numeric(plot_df['renewable_energy_share_in_the_total_final_energy_consumption_'], errors='coerce')\n",
    "    plot_df['gdp_per_capita'] = pd.to_numeric(plot_df['gdp_per_capita'], errors='coerce')\n",
    "    sample = plot_df.dropna(subset=['renewable_share','gdp_per_capita']).sample(frac=0.2, random_state=1)\n",
    "    plt.figure(figsize=(8,6))\n",
    "    sns.scatterplot(data=sample, x='gdp_per_capita', y='renewable_share', alpha=0.7)\n",
    "    plt.xlabel('GDP per Capita')\n",
    "    plt.ylabel('Renewable Energy Share (%)')\n",
    "    plt.title('GDP per Capita vs Renewable Energy Share (sample)')\n",
    "    plt.show()\n",
    "else:\n",
    "    print('Required columns for scatter not found.')"
   ]
  },
  {
   "cell_type": "markdown",
   "id": "13355241",
   "metadata": {},
   "source": [
    "## 7. Export cleaned summary for Tableau\n",
    "Export a summarized CSV (Entity, Year, key metrics) for Tableau import."
   ]
  },
  {
   "cell_type": "code",
   "execution_count": null,
   "id": "99afb2c1",
   "metadata": {},
   "outputs": [],
   "source": [
    "export_cols = ['entity','year']\n",
    "candidates = ['access_to_electricity__of_population_','renewable_energy_share_in_the_total_final_energy_consumption_','value_co2_emissions_kt_by_country','gdp_per_capita','density']\n",
    "existing = [c for c in df.columns if c in candidates]\n",
    "export_cols += existing\n",
    "summary = df[export_cols].copy()\n",
    "summary.to_csv('/mnt/data/tableau_energy_summary.csv', index=False)\n",
    "print('Exported summary to /mnt/data/tableau_energy_summary.csv')"
   ]
  },
  {
   "cell_type": "markdown",
   "id": "c8fa7366",
   "metadata": {},
   "source": [
    "## 8. Next steps and suggestions\n",
    "\n",
    "- Use Tableau to build interactive dashboards (maps, time-series, scatter plots).  \n",
    "- Consider normalizing CO2 emissions by population or GDP for fairness.  \n",
    "- Add country-level shapefile or GeoJSON for mapping in Tableau.  \n",
    "\n",
    "---\n",
    "\n",
    "**Deliverables in `/mnt/data`:**  \n",
    "- `cleaned_sustainable_energy.csv` (cleaned data)  \n",
    "- `sustainable_energy.db` (SQLite DB)  \n",
    "- `tableau_energy_summary.csv` (Tableau-ready summary)  \n",
    "\n",
    "Good luck! Add interpretation text and policy implications to make this portfolio-ready."
   ]
  }
 ],
 "metadata": {},
 "nbformat": 4,
 "nbformat_minor": 5
}
